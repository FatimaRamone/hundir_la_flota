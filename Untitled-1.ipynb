{
 "cells": [
  {
   "cell_type": "code",
   "execution_count": 14,
   "metadata": {},
   "outputs": [
    {
     "name": "stdout",
     "output_type": "stream",
     "text": [
      "['x', 'x', 'x', 'x', 'x', 'x', 'x', 'x', 'x', 'x']\n",
      "\n",
      "\n",
      "['x', 'x', 'x', 'x', 'x', 'x', 'x', 'x', 'x', 'x']\n",
      "\n",
      "\n",
      "['x', 'x', 'x', 'x', 'x', 'x', 'x', 'x', 'x', 'x']\n",
      "\n",
      "\n",
      "['x', 'x', 'x', 'x', 'x', 'x', 'x', 'x', 'x', 'x']\n",
      "\n",
      "\n",
      "['x', 'x', 'x', 'x', 'x', 'x', 'x', 'x', 'x', 'x']\n",
      "\n",
      "\n",
      "['x', 'x', 'x', 'x', 'x', 'x', 'x', 'x', 'x', 'x']\n",
      "\n",
      "\n",
      "['x', 'x', 'x', 'x', 'x', 'x', 'x', 'x', 'x', 'x']\n",
      "\n",
      "\n",
      "['x', 'x', 'x', 'x', 'x', 'x', 'x', 'x', 'x', 'x']\n",
      "\n",
      "\n",
      "[1, 'x', 'x', 'x', 'x', 'x', 'x', 'x', 'x', 'x']\n",
      "\n",
      "\n",
      "['x', 'x', 'x', 'x', 'x', 'x', 'x', 'x', 'x', 'x']\n",
      "\n",
      "\n",
      "['x', 'x', 'x', 'x', 'x', 'x', 'x', 'x', 'x', 'x']\n",
      "\n",
      "\n",
      "['x', 'x', 'x', 'x', 'x', 'x', 'x', 'x', 'x', 'x']\n",
      "\n",
      "\n",
      "['x', 'x', 'x', 'x', 'x', 'x', 'x', 'x', 'x', 'x']\n",
      "\n",
      "\n",
      "['x', 'x', 'x', 'x', 'x', 'x', 'x', 'x', 'x', 'x']\n",
      "\n",
      "\n",
      "['x', 'x', 'x', 'x', 'x', 'x', 'x', 'x', 'x', 'x']\n",
      "\n",
      "\n",
      "['x', 'x', 'x', 'x', 'x', 'x', 'x', 'x', 'x', 'x']\n",
      "\n",
      "\n"
     ]
    }
   ],
   "source": [
    "A = [\"x\", \"x\", \"x\", \"x\", \"x\", \"x\", \"x\", \"x\", \"x\", \"x\"]\n",
    "B = [\"x\", \"x\", \"x\", \"x\", \"x\", \"x\", \"x\", \"x\", \"x\", \"x\"]\n",
    "C = [\"x\", \"x\", \"x\", \"x\", \"x\", \"x\", \"x\", \"x\", \"x\", \"x\"]\n",
    "D = [\"x\", \"x\", \"x\", \"x\", \"x\", \"x\", \"x\", \"x\", \"x\", \"x\"]\n",
    "E = [\"x\", \"x\", \"x\", \"x\", \"x\", \"x\", \"x\", \"x\", \"x\", \"x\"]\n",
    "F = [\"x\", \"x\", \"x\", \"x\", \"x\", \"x\", \"x\", \"x\", \"x\", \"x\"]\n",
    "G = [\"x\", \"x\", \"x\", \"x\", \"x\", \"x\", \"x\", \"x\", \"x\", \"x\"]\n",
    "H = [\"x\", \"x\", \"x\", \"x\", \"x\", \"x\", \"x\", \"x\", \"x\", \"x\"]\n",
    "I = [\"x\", \"x\", \"x\", \"x\", \"x\", \"x\", \"x\", \"x\", \"x\", \"x\"]\n",
    "J = [\"x\", \"x\", \"x\", \"x\", \"x\", \"x\", \"x\", \"x\", \"x\", \"x\"]\n",
    "\n",
    "tablero = [A , B, C , F , G , H , I , J]\n",
    "\n",
    "\n",
    "#esto imprime el tablero original \n",
    "for lista in tablero:\n",
    "    print(lista)\n",
    "    print(\"\\n\")\n",
    "#ahora voy a actualizar el tablero con un barco que ocupe 1 en la lista\n",
    "def barco():\n",
    "       \n",
    "       A[0] = 1\n",
    "       for lista in tablero:\n",
    "                print(lista)\n",
    "                print(\"\\n\")\n",
    "barco()\n"
   ]
  },
  {
   "cell_type": "code",
   "execution_count": 15,
   "metadata": {},
   "outputs": [
    {
     "name": "stdout",
     "output_type": "stream",
     "text": [
      "apple\n",
      "banana\n",
      "\u001b[91m$orange\u001b[0m\n",
      "grape\n",
      "\u001b[91m$mango\u001b[0m\n"
     ]
    }
   ],
   "source": [
    "my_list = [\"apple\", \"banana\", \"$orange\", \"grape\", \"$mango\"]\n",
    "\n",
    "# Iterate over the list and highlight \"$\" in red\n",
    "for item in my_list:\n",
    "    if \"$\" in item:\n",
    "        # ANSI escape code for red color\n",
    "        print(\"\\033[91m\" + item + \"\\033[0m\")\n",
    "    else:\n",
    "        print(item)"
   ]
  }
 ],
 "metadata": {
  "kernelspec": {
   "display_name": "Python 3",
   "language": "python",
   "name": "python3"
  },
  "language_info": {
   "codemirror_mode": {
    "name": "ipython",
    "version": 3
   },
   "file_extension": ".py",
   "mimetype": "text/x-python",
   "name": "python",
   "nbconvert_exporter": "python",
   "pygments_lexer": "ipython3",
   "version": "3.10.6"
  },
  "orig_nbformat": 4
 },
 "nbformat": 4,
 "nbformat_minor": 2
}
